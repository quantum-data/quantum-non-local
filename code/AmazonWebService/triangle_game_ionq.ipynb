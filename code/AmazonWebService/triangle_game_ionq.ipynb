{
 "cells": [
  {
   "cell_type": "markdown",
   "metadata": {},
   "source": [
    "Coded by Emanuele Dalla Torre and Meron Sheffer, Bar-Ilan University. All rights reserved."
   ]
  },
  {
   "cell_type": "code",
   "execution_count": 1,
   "metadata": {},
   "outputs": [],
   "source": [
    "# general imports\n",
    "import matplotlib.pyplot as plt\n",
    "# magic word for producing visualizations in notebook\n",
    "%matplotlib inline\n",
    "import string\n",
    "import time\n",
    "import numpy as np\n",
    "\n",
    "# AWS imports: Import Braket SDK modules\n",
    "from braket.circuits import Circuit, Gate, Observable\n",
    "from braket.devices import LocalSimulator\n",
    "from braket.aws import AwsDevice, AwsQuantumTask"
   ]
  },
  {
   "cell_type": "markdown",
   "metadata": {},
   "source": [
    "__NOTE__: Enter your desired device and S3 location (bucket and key) below. If you are working with the local simulator ```LocalSimulator()``` you do not need to specify any S3 location. However, if you are using a managed device or any QPU devices you need to specify the S3 location where your results will be stored. Remember that bucket names for Amazon Braket always begin with \"amazon-braket-\".  "
   ]
  },
  {
   "cell_type": "code",
   "execution_count": 2,
   "metadata": {},
   "outputs": [],
   "source": [
    "# Enter the S3 bucket you created during onboarding in the code below\n",
    "#my_bucket = \"amazon-braket-289d309751f5\" # the name of the bucket\n",
    "my_bucket = \"amazon-braket-non-local-game-east\"\n",
    "my_prefix = \"non-local-game\" # the name of the folder in the bucket\n",
    "s3_folder = (my_bucket, my_prefix)"
   ]
  },
  {
   "cell_type": "code",
   "execution_count": 3,
   "metadata": {},
   "outputs": [],
   "source": [
    "def circuit000(map):\n",
    "    circuit = Circuit()\n",
    "    for i in range(3):\n",
    "        circuit.h(map[2*i]);\n",
    "        circuit.cnot (control=map[2*i],target=map[(2*i-1)%6]);\n",
    "        circuit.cnot (control=map[2*i],target=map[(2*i+1)%6]);\n",
    "        circuit.h(map[2*i]);\n",
    "    return circuit\n",
    "\n",
    "def analyze000(inp):\n",
    "    win=0;\n",
    "    for x,y in inp.items():\n",
    "        x=x[::-1]\n",
    "        a=0;b=0;c=0;\n",
    "        for i in range(3):\n",
    "            a+=int(x[2*i])\n",
    "            b+=int(x[2*i+1])\n",
    "            c+=int(x[2*i])^int(x[2*i+1])\n",
    "        if (a%2==0 and b%2==0 and c%2==0): win+=y\n",
    "    return win;"
   ]
  },
  {
   "cell_type": "code",
   "execution_count": 4,
   "metadata": {},
   "outputs": [],
   "source": [
    "def circuit001(map):\n",
    "    circuit = Circuit()\n",
    "    for i in range(3):\n",
    "        circuit.h(map[2*i]);\n",
    "        circuit.cnot (control=map[2*i],target=map[(2*i-1)%6]);\n",
    "        circuit.cnot (control=map[2*i],target=map[(2*i+1)%6]);\n",
    "    circuit.rz(map[4],np.pi/2)\n",
    "    for i in range(3):\n",
    "        circuit.h(map[2*i]);\n",
    "    return circuit\n",
    "\n",
    "def analyze001(inp):\n",
    "    win=0\n",
    "    for x,y in inp.items():\n",
    "        x=x[::-1]\n",
    "        a1=int(x[5])\n",
    "        b1=int(x[4])\n",
    "        c1=(int(x[4])+int(x[5]))%2\n",
    "        a2=int(x[3])\n",
    "        b2=int(x[2])\n",
    "        c2=(int(x[2])+int(x[3]))%2\n",
    "        d3=(int(x[0])+int(x[1]))%2\n",
    "        b3=int(x[0])\n",
    "        e3=int(x[1])\n",
    "        if ((b1+b2+b3)%2==0 and (a1+c1+a2+c2+d3+e3)%2==0):win+=y\n",
    "    return win;"
   ]
  },
  {
   "cell_type": "code",
   "execution_count": 5,
   "metadata": {},
   "outputs": [],
   "source": [
    "def circuit010(map):\n",
    "    circuit = Circuit()\n",
    "    for i in range(3):\n",
    "        circuit.h(map[2*i]);\n",
    "        circuit.cnot (control=map[2*i],target=map[(2*i-1)%6]);\n",
    "        circuit.cnot (control=map[2*i],target=map[(2*i+1)%6]);\n",
    "    circuit.rz(map[2],np.pi/2)\n",
    "    for i in range(3):\n",
    "        circuit.h(map[2*i]);\n",
    "    return circuit\n",
    "\n",
    "def analyze010(inp):\n",
    "    win=0;\n",
    "    for x,y in inp.items():\n",
    "        x=x[::-1]\n",
    "        a1=int(x[5])\n",
    "        b1=int(x[4])\n",
    "        c1=(int(x[4])+int(x[5]))%2\n",
    "        a3=int(x[1])\n",
    "        b3=int(x[0])\n",
    "        c3=(int(x[1])+int(x[0]))%2\n",
    "        d2=(int(x[3])+int(x[2]))%2\n",
    "        b2=int(x[2])\n",
    "        e2=int(x[3])\n",
    "        if ((b1+b2+b3)%2==0 and (a1+c1+a3+c3+d2+e2)%2==0):win+=y\n",
    "    return win;"
   ]
  },
  {
   "cell_type": "code",
   "execution_count": 6,
   "metadata": {},
   "outputs": [],
   "source": [
    "def circuit011(map):\n",
    "    circuit = Circuit()\n",
    "    for i in range(3):\n",
    "        circuit.h(map[2*i]);\n",
    "        circuit.cnot (control=map[2*i],target=map[(2*i-1)%6]);\n",
    "        circuit.cnot (control=map[2*i],target=map[(2*i+1)%6]);\n",
    "    circuit.rz(map[2],np.pi/2)\n",
    "    circuit.rz(map[4],np.pi/2)\n",
    "    for i in range(3):\n",
    "        circuit.h(map[2*i]);\n",
    "    return circuit\n",
    "\n",
    "def analyze011(inp):\n",
    "    win=0;\n",
    "    for x,y in inp.items():\n",
    "        x=x[::-1]\n",
    "        a1=int(x[5])\n",
    "        b1=int(x[4])\n",
    "        c1=(int(x[4])+int(x[5]))%2\n",
    "        d2=(int(x[3])+int(x[2]))%2\n",
    "        b2=int(x[2])\n",
    "        e2=int(x[3])\n",
    "        d3=(int(x[1])+int(x[0]))%2\n",
    "        b3=int(x[0])\n",
    "        e3=int(x[1])\n",
    "        if ((b1+b2+b3)%2==0 and (a1+c1+d2+e2+d3+e3)%2==0 and (d2+e3+a1)%2==1):win+=y\n",
    "    return win;"
   ]
  },
  {
   "cell_type": "code",
   "execution_count": 7,
   "metadata": {},
   "outputs": [],
   "source": [
    "def circuit100(map):\n",
    "    circuit = Circuit()\n",
    "    for i in range(3):\n",
    "        circuit.h(map[2*i]);\n",
    "        circuit.cnot (control=map[2*i],target=map[(2*i-1)%6]);\n",
    "        circuit.cnot (control=map[2*i],target=map[(2*i+1)%6]);\n",
    "    circuit.rz(map[0],np.pi/2)\n",
    "    for i in range(3):\n",
    "        circuit.h(map[2*i]);\n",
    "    return circuit\n",
    "\n",
    "def analyze100(inp):\n",
    "    win=0;\n",
    "    for x,y in inp.items():\n",
    "        x=x[::-1]\n",
    "        a3=int(x[1])\n",
    "        b3=int(x[0])\n",
    "        c3=(int(x[1])+int(x[0]))%2\n",
    "        a2=int(x[3])\n",
    "        b2=int(x[2])\n",
    "        c2=(int(x[3])+int(x[2]))%2\n",
    "        d1=(int(x[4])+int(x[5]))%2\n",
    "        b1=int(x[4])\n",
    "        e1=int(x[5])\n",
    "        if ((b1+b2+b3)%2==0 and (a3+c3+a2+c2+d1+e1)%2==0):win+=y\n",
    "    return win;"
   ]
  },
  {
   "cell_type": "code",
   "execution_count": 8,
   "metadata": {},
   "outputs": [],
   "source": [
    "def circuit101(map):\n",
    "    circuit = Circuit()\n",
    "    for i in range(3):\n",
    "        circuit.h(map[2*i]);\n",
    "        circuit.cnot (control=map[2*i],target=map[(2*i-1)%6]);\n",
    "        circuit.cnot (control=map[2*i],target=map[(2*i+1)%6]);\n",
    "    circuit.rz(map[0],np.pi/2)\n",
    "    circuit.rz(map[4],np.pi/2)\n",
    "    for i in range(3):\n",
    "        circuit.h(map[2*i]);\n",
    "    return circuit\n",
    "\n",
    "def analyze101(inp):\n",
    "    win=0;\n",
    "    for x,y in inp.items():\n",
    "        x=x[::-1]\n",
    "        a2=int(x[3])\n",
    "        b2=int(x[2])\n",
    "        c2=(int(x[2])+int(x[3]))%2\n",
    "        d1=(int(x[4])+int(x[5]))%2\n",
    "        b1=int(x[4])\n",
    "        e1=int(x[5])\n",
    "        d3=(int(x[0])+int(x[1]))%2\n",
    "        b3=int(x[0])\n",
    "        e3=int(x[1])\n",
    "        if (((b1+b2+b3)%2==0) and ((a2+c2+d1+e1+d3+e3)%2==0) and ((d3+e1+a2)%2==1)): win+=y\n",
    "    return win;"
   ]
  },
  {
   "cell_type": "code",
   "execution_count": 9,
   "metadata": {},
   "outputs": [],
   "source": [
    "def circuit110(map):\n",
    "    circuit = Circuit()\n",
    "    for i in range(3):\n",
    "        circuit.h(map[2*i]);\n",
    "        circuit.cnot (control=map[2*i],target=map[(2*i-1)%6]);\n",
    "        circuit.cnot (control=map[2*i],target=map[(2*i+1)%6]);\n",
    "    circuit.rz(map[0],np.pi/2)\n",
    "    circuit.rz(map[2],np.pi/2)\n",
    "    for i in range(3):\n",
    "        circuit.h(map[2*i]);\n",
    "    return circuit\n",
    "\n",
    "def analyze110(inp):\n",
    "    win=0;\n",
    "    for x,y in inp.items():\n",
    "        x=x[::-1]\n",
    "        a3=int(x[1])\n",
    "        b3=int(x[0])\n",
    "        c3=(int(x[0])+int(x[1]))%2\n",
    "        d2=(int(x[2])+int(x[3]))%2\n",
    "        b2=int(x[2])\n",
    "        e2=int(x[3])\n",
    "        d1=(int(x[4])+int(x[5]))%2\n",
    "        b1=int(x[4])\n",
    "        e1=int(x[5])\n",
    "        if ((b1+b2+b3)%2==0 and (a3+c3+d2+e2+d1+e1)%2==0 and (e2+d1+a3)%2==1):win+=y\n",
    "    return win;"
   ]
  },
  {
   "cell_type": "code",
   "execution_count": 10,
   "metadata": {},
   "outputs": [],
   "source": [
    "def circuit111(map):\n",
    "    circuit = Circuit()\n",
    "    for i in range(3):\n",
    "        circuit.h(map[2*i]);\n",
    "        circuit.cnot (control=map[2*i],target=map[(2*i-1)%6]);\n",
    "        circuit.cnot (control=map[2*i],target=map[(2*i+1)%6]);\n",
    "    circuit.rz(map[0],np.pi/2)\n",
    "    circuit.rz(map[2],np.pi/2)\n",
    "    circuit.rz(map[4],np.pi/2)\n",
    "    for i in range(3):\n",
    "        circuit.h(map[2*i]);\n",
    "    return circuit\n",
    "\n",
    "def analyze111(inp):\n",
    "    win=0;\n",
    "    for x,y in inp.items():\n",
    "        x=x[::-1]\n",
    "        d1=(int(x[4])+int(x[5]))%2\n",
    "        b1=int(x[4])\n",
    "        e1=int(x[5])\n",
    "        d2=(int(x[3])+int(x[2]))%2\n",
    "        b2=int(x[2])\n",
    "        e2=int(x[3])\n",
    "        d3=(int(x[1])+int(x[0]))%2\n",
    "        b3=int(x[0])\n",
    "        e3=int(x[1])\n",
    "        if ((b1+b2+b3)%2==0 and (d1+e1+d2+e2+d3+e3)%2==0):win+=y\n",
    "    return win;"
   ]
  },
  {
   "cell_type": "code",
   "execution_count": 11,
   "metadata": {},
   "outputs": [],
   "source": [
    "def code(index):\n",
    "    return (\"000\"+str((bin(index))[2:]))[-3:]"
   ]
  },
  {
   "cell_type": "code",
   "execution_count": 12,
   "metadata": {},
   "outputs": [],
   "source": [
    "def circuit(index,map=list(range(6))):\n",
    "    return globals()[\"circuit\"+code(index)](map)"
   ]
  },
  {
   "cell_type": "code",
   "execution_count": 13,
   "metadata": {},
   "outputs": [],
   "source": [
    "def analyze(index,inp):\n",
    "    return globals()[\"analyze\"+code(index)](inp)"
   ]
  },
  {
   "cell_type": "code",
   "execution_count": 14,
   "metadata": {},
   "outputs": [
    {
     "name": "stdout",
     "output_type": "stream",
     "text": [
      "Move000 simulate : 100.0%\n",
      "Move001 simulate : 100.0%\n",
      "Move010 simulate : 100.0%\n",
      "Move011 simulate : 100.0%\n",
      "Move100 simulate : 100.0%\n",
      "Move101 simulate : 100.0%\n",
      "Move110 simulate : 100.0%\n",
      "Move111 simulate : 100.0%\n",
      "Average success ratio: 100.0%\n"
     ]
    }
   ],
   "source": [
    "#https://jaxenter.com/implement-switch-case-statement-python-138315.html\n",
    "device = LocalSimulator()\n",
    "Nshots = 1000\n",
    "\n",
    "win=list(range(8))\n",
    "\n",
    "for i in range(8) :\n",
    "    result = device.run(circuit(i,map=list(range(7))), shots=Nshots).result();\n",
    "    #inp=rewrite_y(result.measurement_counts);\n",
    "    inp=result.measurement_counts;\n",
    "    #print(inp)\n",
    "    win[i]=analyze(i,inp);\n",
    "    print(\"Move\"+code(i)+\" simulate : \" + str(win[i]/Nshots*100)+\"%\");     \n",
    "\n",
    "print(\"Average success ratio: \"+str(np.sum(win)/8/Nshots*100)+\"%\")"
   ]
  },
  {
   "cell_type": "markdown",
   "metadata": {},
   "source": [
    "# Running on IonQ"
   ]
  },
  {
   "cell_type": "code",
   "execution_count": 15,
   "metadata": {},
   "outputs": [],
   "source": [
    "def run_ionq(index,Nshots) :\n",
    "    # set up device\n",
    "    ionq = AwsDevice(\"arn:aws:braket:::device/qpu/ionq/ionQdevice\")\n",
    "\n",
    "    # run circuit with a polling time of 5 days\n",
    "    ionq_task = ionq.run(circuit(index), s3_folder, shots=Nshots, poll_timeout_seconds=5*24*60*60)\n",
    "\n",
    "    # get id and status of submitted task\n",
    "    ionq_task_id = ionq_task.id\n",
    "    print('Move'+code(index)+ ionq_task_id)\n",
    "    ionq_status = ionq_task.state()\n",
    "    # print('ID of task:', ionq_task_id)\n",
    "    print('Status of task:', ionq_status);\n",
    "    return ionq_task_id"
   ]
  },
  {
   "cell_type": "code",
   "execution_count": 25,
   "metadata": {},
   "outputs": [
    {
     "ename": "IndentationError",
     "evalue": "expected an indented block (<ipython-input-25-19e70e29ae73>, line 7)",
     "output_type": "error",
     "traceback": [
      "\u001b[0;36m  File \u001b[0;32m\"<ipython-input-25-19e70e29ae73>\"\u001b[0;36m, line \u001b[0;32m7\u001b[0m\n\u001b[0;31m    print(task_ionq)\u001b[0m\n\u001b[0m        ^\u001b[0m\n\u001b[0;31mIndentationError\u001b[0m\u001b[0;31m:\u001b[0m expected an indented block\n"
     ]
    }
   ],
   "source": [
    "task_ionq=list(range(8))\n",
    "Nshots=1000\n",
    "\n",
    "for i in range(8):\n",
    "    ####UNCOMMENT TO RUN\n",
    "    ####task_ionq[i]=run_ionq(i,Nshots)\n",
    "print(task_ionq)"
   ]
  },
  {
   "cell_type": "code",
   "execution_count": 17,
   "metadata": {},
   "outputs": [],
   "source": [
    "#RUN with 1000 shots (23/03/2021)\n",
    "task_ionq=['arn:aws:braket:us-east-1:487494119027:quantum-task/ff584305-bc10-4b62-b40b-900a78dd68dc', 'arn:aws:braket:us-east-1:487494119027:quantum-task/aecd98a4-9356-4f58-b8f6-26d41473cd7a', 'arn:aws:braket:us-east-1:487494119027:quantum-task/20ea44e8-b5bd-46a2-af10-c66f9e62f4f5', 'arn:aws:braket:us-east-1:487494119027:quantum-task/fc6a83b9-8e74-44ea-b9a6-b6753ee19aa7', 'arn:aws:braket:us-east-1:487494119027:quantum-task/0fba71a2-39bf-4b98-b623-346fe338da23', 'arn:aws:braket:us-east-1:487494119027:quantum-task/00021635-de40-4259-8bcc-f43a9204a530', 'arn:aws:braket:us-east-1:487494119027:quantum-task/26093546-8fef-4b6b-a6c8-859aeb2ee267', 'arn:aws:braket:us-east-1:487494119027:quantum-task/848822ec-fd90-41b2-9e70-a7f0ee7c9e67']\n",
    "#RUN with 1000 shots (11/01/2021)\n",
    "#task_ionq=['arn:aws:braket:us-east-1:487494119027:quantum-task/7c232b8e-235a-495f-b3df-61f944592c25', 'arn:aws:braket:us-east-1:487494119027:quantum-task/27bed880-5791-4d2e-bbf5-0b2566136eb8', 'arn:aws:braket:us-east-1:487494119027:quantum-task/166c2119-68d3-4b55-a85d-1a2a811be095', 'arn:aws:braket:us-east-1:487494119027:quantum-task/264c4af7-ca5f-445a-ad21-b9376d4600cd', 'arn:aws:braket:us-east-1:487494119027:quantum-task/d427b991-076a-41e1-85cc-1aadf413efab', 'arn:aws:braket:us-east-1:487494119027:quantum-task/73732859-82b9-41a9-9ff4-8e95087ffe91', 'arn:aws:braket:us-east-1:487494119027:quantum-task/35f80e9a-df49-40ac-931f-5fe6f16eb79c', 'arn:aws:braket:us-east-1:487494119027:quantum-task/1555463c-a32e-42a3-a1ae-571a65085a91']\n",
    "#RUN with 1000 shots (10/01/2021)\n",
    "#task_ionq=['arn:aws:braket:us-east-1:487494119027:quantum-task/a561ac1f-4491-41a7-9d80-2a1b823f92c1', 'arn:aws:braket:us-east-1:487494119027:quantum-task/c323af0c-c85c-4069-9047-685272927252', 'arn:aws:braket:us-east-1:487494119027:quantum-task/366acd44-bd13-4ccf-b87b-c73a0467ee74', 'arn:aws:braket:us-east-1:487494119027:quantum-task/770464ad-16e1-4cb6-a220-b21c60eb6ad1', 'arn:aws:braket:us-east-1:487494119027:quantum-task/eb0cb6d7-01ea-40de-976e-f154ae5d28c8', 'arn:aws:braket:us-east-1:487494119027:quantum-task/2a3d9392-2c98-4897-963f-f378afd4f904', 'arn:aws:braket:us-east-1:487494119027:quantum-task/2e6f7868-c517-4fb1-8d04-090a4104a7b6', 'arn:aws:braket:us-east-1:487494119027:quantum-task/94eda5aa-2029-4251-a75b-29bc219d0a41']\n",
    "#RUN with 1000 shots (04/01/2021)\n",
    "#task_ionq=['arn:aws:braket:us-east-1:487494119027:quantum-task/78814a8d-612d-4e86-9364-07f7d994aeed', 'arn:aws:braket:us-east-1:487494119027:quantum-task/0ff4cfd0-fc1f-4a66-8e00-ae5369dfe0e1', 'arn:aws:braket:us-east-1:487494119027:quantum-task/6eb3bd99-607f-4aae-b822-c5bd82b3e290', 'arn:aws:braket:us-east-1:487494119027:quantum-task/7dcab2ea-80cc-42e6-ab12-e626a0b9451d', 'arn:aws:braket:us-east-1:487494119027:quantum-task/3841bd27-9ad1-4000-8763-caa5a2518f76', 'arn:aws:braket:us-east-1:487494119027:quantum-task/779d2a35-7187-40b7-81c6-98d7f2938a56', 'arn:aws:braket:us-east-1:487494119027:quantum-task/09eaa59c-0764-4b2a-95d1-162e44639ea5', 'arn:aws:braket:us-east-1:487494119027:quantum-task/9701097d-0159-468d-adac-a34e08c9ee81']\n",
    "#RUN with 100 shots (03/01/2021::21:39)\n",
    "#task_ionq=['arn:aws:braket:us-east-1:487494119027:quantum-task/72ffed6d-1e19-405a-a2fb-1985c2842834', 'arn:aws:braket:us-east-1:487494119027:quantum-task/53de2f8d-d3d5-4955-bc4f-79bd23ce8958', 'arn:aws:braket:us-east-1:487494119027:quantum-task/a3cde14d-552f-4656-a093-32bb0c83877d', 'arn:aws:braket:us-east-1:487494119027:quantum-task/32e8467f-12d0-49d4-a4a6-663b97aca922', 'arn:aws:braket:us-east-1:487494119027:quantum-task/8f73c9e1-5361-4149-8e36-32547456a637', 'arn:aws:braket:us-east-1:487494119027:quantum-task/51dee499-2a1e-4b2e-9d94-eecc4f47d32c', 'arn:aws:braket:us-east-1:487494119027:quantum-task/a5dd60c3-21ea-48a6-adac-1582cbc11d65', 'arn:aws:braket:us-east-1:487494119027:quantum-task/980bcb4e-e56c-4563-b590-c511d4bcd502']\n",
    "#RUN with 100 shots (03/01/2021::18:38)\n",
    "#task_ionq=[['arn:aws:braket:us-east-1:487494119027:quantum-task/7b286bf0-6ab0-4d12-9e05-e45c40df1d0e', 'arn:aws:braket:us-east-1:487494119027:quantum-task/948d4832-a06b-426a-8e88-ce6cfd905630', 'arn:aws:braket:us-east-1:487494119027:quantum-task/f226c3fa-9734-4f56-8d5f-80acbbae480c', 'arn:aws:braket:us-east-1:487494119027:quantum-task/45cb80b0-aefa-4f61-ba4e-b8b272707cbd', 'arn:aws:braket:us-east-1:487494119027:quantum-task/3c4faf60-7071-49ee-96b9-13d1ae5b22bf', 'arn:aws:braket:us-east-1:487494119027:quantum-task/52d4b94f-a0ce-4ddb-b7bd-03d77ea78b2e', 'arn:aws:braket:us-east-1:487494119027:quantum-task/57647982-c53b-43ac-b086-7c41aab1f0ad', 'arn:aws:braket:us-east-1:487494119027:quantum-task/31e64ba6-974c-4ab3-bb12-50ceba60694b']]\n",
    "#RUN with 100 shots (03/01/2021)\n",
    "#task_ionq=['arn:aws:braket:us-east-1:487494119027:quantum-task/da214fd2-af0b-4203-9c74-52877e6bf15d', 'arn:aws:braket:us-east-1:487494119027:quantum-task/ee45fe32-28b1-432f-bb66-53b3cc040a39', 'arn:aws:braket:us-east-1:487494119027:quantum-task/87c00595-9bbe-4de5-9218-d39c22e9f8cf', 'arn:aws:braket:us-east-1:487494119027:quantum-task/674dca8f-4fa2-4c23-92a5-d78fba945b74', 'arn:aws:braket:us-east-1:487494119027:quantum-task/7cd8ff31-dee9-47e5-81d9-5638896093bf', 'arn:aws:braket:us-east-1:487494119027:quantum-task/49d2447d-4824-4c25-88fc-483748f45399', 'arn:aws:braket:us-east-1:487494119027:quantum-task/b91756a7-b510-4336-aaf0-cccdf3d7ffcb', 'arn:aws:braket:us-east-1:487494119027:quantum-task/ca51cfcb-2272-4c7e-aa9b-8be6600c6b67']"
   ]
  },
  {
   "cell_type": "code",
   "execution_count": 26,
   "metadata": {},
   "outputs": [
    {
     "name": "stdout",
     "output_type": "stream",
     "text": [
      "COMPLETED\n",
      "COMPLETED\n",
      "COMPLETED\n",
      "COMPLETED\n",
      "COMPLETED\n",
      "COMPLETED\n",
      "COMPLETED\n",
      "COMPLETED\n"
     ]
    }
   ],
   "source": [
    "for i in range(8):\n",
    "    task = AwsQuantumTask(arn=task_ionq[i])\n",
    "    print(task.state())\n",
    "    #task.cancel()"
   ]
  },
  {
   "cell_type": "markdown",
   "metadata": {},
   "source": [
    "# Custom function to load results from IonQ"
   ]
  },
  {
   "cell_type": "code",
   "execution_count": 27,
   "metadata": {},
   "outputs": [],
   "source": [
    "\n",
    "#s3 = boto3.resource('s3')\n",
    "\n",
    "#content_object = s3.Object('test', '')\n",
    "#file_content = content_object.get()['Body'].read().decode('utf-8')\n",
    "#json_content = json.loads(file_content)\n",
    "#print(json_content['Details'])\n",
    "# >> Something\n",
    "\n",
    "\n",
    "import json\n",
    "import boto3\n",
    "\n",
    "def getcounts(taskid):\n",
    "    s3 = boto3.client('s3')\n",
    "    my_key=my_prefix+\"/\"+taskid+\"/results.json\"\n",
    "    #print(my_key)\n",
    "    data = s3.get_object(Bucket=my_bucket, Key=my_key)\n",
    "    json_data = data['Body'].read().decode('utf-8')\n",
    "    json_content = json.loads(json_data)\n",
    "    return json_content['measurementProbabilities']\n"
   ]
  },
  {
   "cell_type": "markdown",
   "metadata": {},
   "source": [
    "# Ionq calibration"
   ]
  },
  {
   "cell_type": "code",
   "execution_count": 28,
   "metadata": {},
   "outputs": [
    {
     "ename": "NameError",
     "evalue": "name 'ionq_task00' is not defined",
     "output_type": "error",
     "traceback": [
      "\u001b[0;31m---------------------------------------------------------------------------\u001b[0m",
      "\u001b[0;31mNameError\u001b[0m                                 Traceback (most recent call last)",
      "\u001b[0;32m<ipython-input-28-63c8f29b09c9>\u001b[0m in \u001b[0;36m<module>\u001b[0;34m\u001b[0m\n\u001b[1;32m     24\u001b[0m \u001b[0;34m\u001b[0m\u001b[0m\n\u001b[1;32m     25\u001b[0m \u001b[0;31m####ionq_task00 = ionq.run(circuit00, s3_folder, shots=Nshots, poll_timeout_seconds=5*24*60*60)\u001b[0m\u001b[0;34m\u001b[0m\u001b[0;34m\u001b[0m\u001b[0;34m\u001b[0m\u001b[0m\n\u001b[0;32m---> 26\u001b[0;31m \u001b[0mprint\u001b[0m\u001b[0;34m(\u001b[0m\u001b[0;34m'Clibrate00'\u001b[0m\u001b[0;34m+\u001b[0m \u001b[0mionq_task00\u001b[0m\u001b[0;34m.\u001b[0m\u001b[0mid\u001b[0m\u001b[0;34m)\u001b[0m\u001b[0;34m\u001b[0m\u001b[0;34m\u001b[0m\u001b[0m\n\u001b[0m\u001b[1;32m     27\u001b[0m \u001b[0;34m\u001b[0m\u001b[0m\n\u001b[1;32m     28\u001b[0m \u001b[0;31m####ionq_task01 = ionq.run(circuit01, s3_folder, shots=Nshots, poll_timeout_seconds=5*24*60*60)\u001b[0m\u001b[0;34m\u001b[0m\u001b[0;34m\u001b[0m\u001b[0;34m\u001b[0m\u001b[0m\n",
      "\u001b[0;31mNameError\u001b[0m: name 'ionq_task00' is not defined"
     ]
    }
   ],
   "source": [
    "Nshots=1000\n",
    "\n",
    "circuit00=Circuit()\n",
    "for i in range(6):\n",
    "    circuit00.i(i)\n",
    "\n",
    "circuit01=Circuit()\n",
    "for i in range(3):\n",
    "    circuit01.x(2*i)\n",
    "    circuit01.i(2*i+1)\n",
    "    \n",
    "circuit10=Circuit()\n",
    "for i in range(3):\n",
    "    circuit10.i(2*i)\n",
    "    circuit10.x(2*i+1)\n",
    "    \n",
    "circuit11=Circuit()\n",
    "for i in range(6):\n",
    "    circuit11.x(i)\n",
    "    \n",
    "####UNCOMMENT TO RUN\n",
    "\n",
    "ionq = AwsDevice(\"arn:aws:braket:::device/qpu/ionq/ionQdevice\")\n",
    "\n",
    "####ionq_task00 = ionq.run(circuit00, s3_folder, shots=Nshots, poll_timeout_seconds=5*24*60*60)\n",
    "print('Clibrate00'+ ionq_task00.id)\n",
    "\n",
    "####ionq_task01 = ionq.run(circuit01, s3_folder, shots=Nshots, poll_timeout_seconds=5*24*60*60)\n",
    "print('Clibrate01'+ ionq_task01.id)\n",
    "\n",
    "####ionq_task10 = ionq.run(circuit10, s3_folder, shots=Nshots, poll_timeout_seconds=5*24*60*60)\n",
    "print('Clibrate10'+ ionq_task10.id)\n",
    "\n",
    "####ionq_task11 = ionq.run(circuit11, s3_folder, shots=Nshots, poll_timeout_seconds=5*24*60*60)\n",
    "ionq_task_id11 = ionq_task11.id\n",
    "print('Clibrate11'+ ionq_task11.id)\n",
    "\n",
    "ionq_task_calibrate=[ionq_task00.id,ionq_task01.id,ionq_task10.id,ionq_task11.id]\n",
    "print(ionq_task_calibrate)"
   ]
  },
  {
   "cell_type": "code",
   "execution_count": 29,
   "metadata": {},
   "outputs": [],
   "source": [
    "#1000 shots 23/03/2021\n",
    "ionq_task_calibrate=['arn:aws:braket:us-east-1:487494119027:quantum-task/bfdb862f-67a8-4052-ac0d-658cdcfd9ea4', 'arn:aws:braket:us-east-1:487494119027:quantum-task/0f0059df-7886-45f0-b9b8-dc8be95f0a84', 'arn:aws:braket:us-east-1:487494119027:quantum-task/6b855272-d790-4b39-817b-a27aea7fc716', 'arn:aws:braket:us-east-1:487494119027:quantum-task/62c08ce3-6228-4ba8-9320-4c56f49134f4']\n",
    "#1000 shots 11/01/2021\n",
    "#ionq_task_calibrate=['arn:aws:braket:us-east-1:487494119027:quantum-task/f00469f7-edba-4129-9127-e522475df100', 'arn:aws:braket:us-east-1:487494119027:quantum-task/f89b3e69-a2a0-4224-93cc-8cd18dcacd13', 'arn:aws:braket:us-east-1:487494119027:quantum-task/505388d6-af4b-4fc6-8900-2953f4f3f7cd', 'arn:aws:braket:us-east-1:487494119027:quantum-task/e68f7c37-f667-415e-a53e-fa90f596e816']\n",
    "#1000 shots 10/01/2021\n",
    "#ionq_task_calibrate=['arn:aws:braket:us-east-1:487494119027:quantum-task/23563ccd-e46c-4726-8fbc-2b39b0b46901', 'arn:aws:braket:us-east-1:487494119027:quantum-task/5510397c-9fcd-4cfe-ae31-ecfd0f72aca0', 'arn:aws:braket:us-east-1:487494119027:quantum-task/4ce01981-c88f-4f99-821a-f95accc53e06', 'arn:aws:braket:us-east-1:487494119027:quantum-task/e98bcb65-5f10-4bc3-98a8-4d3d850024cd']\n",
    "#1000 shots 04/01/2021\n",
    "#ionq_task_calibrate=['arn:aws:braket:us-east-1:487494119027:quantum-task/e34b7d0e-62f7-4198-b0ec-47a10ec1844f', 'arn:aws:braket:us-east-1:487494119027:quantum-task/32d304cc-aebf-441e-8609-afad719bb61a', 'arn:aws:braket:us-east-1:487494119027:quantum-task/c799ee89-23c4-4080-af59-0f0d83eb7ee3', 'arn:aws:braket:us-east-1:487494119027:quantum-task/e0ee25de-7575-43b8-a459-d2a1857d3d37']\n",
    "#100 shots\n",
    "#ionq_task_calibrate=['arn:aws:braket:us-east-1:487494119027:quantum-task/fd97be90-930c-4f9a-bba5-9e511aa12178', 'arn:aws:braket:us-east-1:487494119027:quantum-task/6391d21d-d480-46fc-a2c0-fa412e1cd262', 'arn:aws:braket:us-east-1:487494119027:quantum-task/cabdf470-39b3-4b02-84eb-98a5382d8005', 'arn:aws:braket:us-east-1:487494119027:quantum-task/84fc12f9-e126-4a83-a2d9-c36690116c59']\n"
   ]
  },
  {
   "cell_type": "code",
   "execution_count": 30,
   "metadata": {},
   "outputs": [
    {
     "name": "stdout",
     "output_type": "stream",
     "text": [
      "calibrate00 \n",
      "{'000000': 1.0}\n",
      "calibrate01 \n",
      "{'101000': 0.009, '100010': 0.01, '001010': 0.014, '101010': 0.952, '111010': 0.003, '101110': 0.012}\n",
      "calibrate10 \n",
      "{'010100': 0.005, '010001': 0.01, '000101': 0.012, '010101': 0.944, '110101': 0.008, '011101': 0.01, '010111': 0.01, '110111': 0.001}\n",
      "calibrate11 \n",
      "{'101110': 0.001, '111110': 0.015, '111101': 0.017, '101011': 0.001, '111011': 0.011, '110111': 0.006, '101111': 0.015, '011111': 0.01, '111111': 0.924}\n"
     ]
    }
   ],
   "source": [
    "cali = [dict() for x in range (4)]\n",
    "\n",
    "for i in range(4):\n",
    "    task = AwsQuantumTask(ionq_task_calibrate[i])\n",
    "    if (task.state()==\"COMPLETED\"):\n",
    "        cali[i]=getcounts(ionq_task_calibrate[i][51:])\n",
    "        print(\"calibrate\"+code(i)[1:3]+\" \")\n",
    "        print(cali[i])\n",
    "    else:\n",
    "        print(\"calibration still running\")"
   ]
  },
  {
   "cell_type": "code",
   "execution_count": 31,
   "metadata": {},
   "outputs": [],
   "source": [
    "m= [[[0 for k in range(4)] for j in range(4)] for i in range (3)]\n",
    "m[0][:][:]=[[0 for i in range(4)] for j in range(4)]\n",
    "m[1][:][:]=[[0 for i in range(4)] for j in range(4)]\n",
    "m[2][:][:]=[[0 for i in range(4)] for j in range(4)]\n",
    "c=0\n",
    "for k in range (4):\n",
    "    for x,y in cali[k].items():\n",
    "        for i in range (3):\n",
    "            for j in range (4):\n",
    "                if (int(x[2*i])==j%2 and int(x[2*i+1])==int((j-j%2)/2)):\n",
    "                    m[i][j][k]+=y\n",
    "m1=m[0][:][:]\n",
    "m2=m[1][:][:]\n",
    "m3=m[2][:][:]\n",
    "matrix=np.zeros((64,64))\n",
    "for i in range(64):\n",
    "    for j in range(64):\n",
    "            matrix[i][j]=m1[i%4][j%4]*m2[int(i/4)%4][int(j/4)%4]*m3[int(i/16)%4][int(j/16)%4]\n",
    "Cmatrix=np.linalg.inv(matrix)\n",
    "\n",
    "def rewrite_y(inp):\n",
    "    ys=[0]*64\n",
    "    for x,y in inp.items():\n",
    "        for i in range (64):\n",
    "            if i==int(x,2):\n",
    "                ys[i]=y\n",
    "    new_ys=np.matmul(Cmatrix,ys)\n",
    "    #new_ys=np.transpose(new_ys.reshape(8,8)).reshape(64)\n",
    "    i=0\n",
    "    count=0\n",
    "    newinp={}\n",
    "    for x,y in inp.items():\n",
    "        for i in range (64):\n",
    "            if i==int(x,2):\n",
    "                newinp[x]=new_ys[i]\n",
    "                if (newinp[x]>0):\n",
    "                    count+=newinp[x]\n",
    "                else:\n",
    "                    newinp[x]=0\n",
    "    newinp.update((x, y/count) for x, y in newinp.items())\n",
    "    return newinp"
   ]
  },
  {
   "cell_type": "code",
   "execution_count": 32,
   "metadata": {},
   "outputs": [
    {
     "name": "stdout",
     "output_type": "stream",
     "text": [
      "Move000 IonQ : 78.80000000000001% -->82.2489059393505%\n",
      "Move001 IonQ : 85.00000000000003% -->86.69875409767913%\n",
      "Move010 IonQ : 84.60000000000004% -->86.24205498652574%\n",
      "Move011 IonQ : 81.00000000000001% -->84.27044908855949%\n",
      "Move100 IonQ : 85.50000000000004% -->87.01871913679653%\n",
      "Move101 IonQ : 77.50000000000001% -->80.69985591879939%\n",
      "Move110 IonQ : 78.00000000000001% -->80.93474607626747%\n",
      "Move111 IonQ : 83.50000000000004% -->84.9607588660256%\n",
      "Average success ratio: 81.73750000000001% -->84.13428051375048\n"
     ]
    }
   ],
   "source": [
    "win_correct=list(range(8))\n",
    "\n",
    "for i in range(8):\n",
    "    task = AwsQuantumTask(arn=task_ionq[i])\n",
    "    shortid=task_ionq[i][51:]\n",
    "    \n",
    "    if (task.state()=='COMPLETED'): \n",
    "        mycounts=getcounts(shortid)\n",
    "        win[i]=analyze(i,mycounts)\n",
    "        win_correct[i]=analyze(i,rewrite_y(mycounts))\n",
    "        print(\"Move\"+code(i)+\" IonQ : \" + str(win[i]*100)+\"% -->\"+str(win_correct[i]*100)+\"%\");\n",
    "        #print(counts)\n",
    "    else:\n",
    "        print(\"Move\"+code(i)+\" \"+shortid + \" -- \" + task.state())\n",
    "        win[i]=0\n",
    "\n",
    "print(\"Average success ratio: \"+str(np.sum(win)/8*100)+\"% -->\"+str(np.sum(win_correct)/8*100))"
   ]
  },
  {
   "cell_type": "code",
   "execution_count": null,
   "metadata": {},
   "outputs": [],
   "source": []
  },
  {
   "cell_type": "code",
   "execution_count": null,
   "metadata": {},
   "outputs": [],
   "source": []
  }
 ],
 "metadata": {
  "kernelspec": {
   "display_name": "conda_braket",
   "language": "python",
   "name": "conda_braket"
  },
  "language_info": {
   "codemirror_mode": {
    "name": "ipython",
    "version": 3
   },
   "file_extension": ".py",
   "mimetype": "text/x-python",
   "name": "python",
   "nbconvert_exporter": "python",
   "pygments_lexer": "ipython3",
   "version": "3.7.9"
  }
 },
 "nbformat": 4,
 "nbformat_minor": 4
}
